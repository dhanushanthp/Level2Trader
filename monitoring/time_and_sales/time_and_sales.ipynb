{
 "cells": [
  {
   "cell_type": "code",
   "execution_count": null,
   "id": "forced-psychology",
   "metadata": {},
   "outputs": [],
   "source": [
    "import itertools\n",
    "from terminaltables import AsciiTable\n",
    "from colorclass import Color, Windows\n",
    "from terminaltables import SingleTable"
   ]
  },
  {
   "cell_type": "code",
   "execution_count": null,
   "id": "chronic-carpet",
   "metadata": {},
   "outputs": [],
   "source": [
    "# Using readlines()\n",
    "file1 = open('test_data/last.csv', 'r')\n",
    "lines = file1.readlines()"
   ]
  },
  {
   "cell_type": "code",
   "execution_count": null,
   "id": "direct-medium",
   "metadata": {},
   "outputs": [],
   "source": [
    "lines = lines[1:]"
   ]
  },
  {
   "cell_type": "markdown",
   "id": "trained-checkout",
   "metadata": {},
   "source": [
    "# Test Bench"
   ]
  },
  {
   "cell_type": "code",
   "execution_count": null,
   "id": "russian-pregnancy",
   "metadata": {},
   "outputs": [],
   "source": [
    "time_dict = dict()\n",
    "for line in lines:\n",
    "    line_split = line.split(',')\n",
    "    var_time = line_split[0][:-1]\n",
    "    var_value = float(line_split[1])\n",
    "    var_size = int(line_split[2])\n",
    "    var_exchange = line_split[3]\n",
    "    \n",
    "    \n",
    "    if var_time in time_dict:\n",
    "        if var_value in time_dict[var_time]:\n",
    "            # Get the value dictionary and update the size\n",
    "            time_dict[var_time][var_value] = time_dict[var_time][var_value] + var_size\n",
    "        else:\n",
    "            time_dict[var_time][var_value] = var_size\n",
    "        \n",
    "    else:\n",
    "        # Create value dictionary with size\n",
    "        value_dict = dict()\n",
    "        value_dict[var_value] = var_size\n",
    "        # Create time dictionary with value\n",
    "        time_dict[var_time] = value_dict"
   ]
  },
  {
   "cell_type": "code",
   "execution_count": null,
   "id": "valued-cornwall",
   "metadata": {},
   "outputs": [],
   "source": [
    "# Time\n",
    "lst_time = sorted(time_dict.keys())\n",
    "# value\n",
    "lst_price = sorted(list((set(itertools.chain.from_iterable([list(time_dict[i].keys()) for i in lst_time])))))"
   ]
  },
  {
   "cell_type": "code",
   "execution_count": null,
   "id": "impressed-minority",
   "metadata": {},
   "outputs": [],
   "source": [
    "def color_size(size:int):\n",
    "    if size > 5000:\n",
    "        return Color('{autored}' + str(size) + '{/autored}')\n",
    "    elif size > 3000:\n",
    "        return Color('{autocyan}' + str(size) + '{/autocyan}')\n",
    "    elif size > 3000:\n",
    "        return Color('{autoyellow}' + str(size) + '{/autoyellow}')\n",
    "    else:\n",
    "        return Color(str(size))"
   ]
  },
  {
   "cell_type": "code",
   "execution_count": null,
   "id": "similar-dressing",
   "metadata": {},
   "outputs": [],
   "source": [
    "table_data = []\n",
    "for ele_time in lst_time:\n",
    "    value_data = []\n",
    "    for ele_price in lst_price:\n",
    "        if ele_price in time_dict[ele_time]:\n",
    "            # Add the volumne size\n",
    "            value_data.append(color_size(time_dict[ele_time][ele_price]))\n",
    "        else:\n",
    "            value_data.append(0)\n",
    "    table_data.append(value_data)"
   ]
  },
  {
   "cell_type": "code",
   "execution_count": null,
   "id": "immediate-plumbing",
   "metadata": {},
   "outputs": [],
   "source": [
    "table_data.insert(0, lst_price)\n",
    "table_data = list(map(list, zip(*table_data)))\n",
    "table_data.insert(0, [''] + lst_time)"
   ]
  },
  {
   "cell_type": "code",
   "execution_count": null,
   "id": "organic-harris",
   "metadata": {
    "scrolled": true
   },
   "outputs": [],
   "source": [
    "table = AsciiTable(table_data)\n",
    "table.inner_heading_row_border = False\n",
    "table.inner_row_border = True\n",
    "table.justify_columns = {0: 'center', 1: 'center', 2: 'center'}\n",
    "print(table.table)"
   ]
  },
  {
   "cell_type": "code",
   "execution_count": null,
   "id": "mobile-indonesian",
   "metadata": {},
   "outputs": [],
   "source": [
    "table_instance = SingleTable(table_data, 'Ticker')\n",
    "table_instance.inner_heading_row_border = False\n",
    "table_instance.inner_row_border = True\n",
    "table_instance.justify_columns = {0: 'center', 1: 'center', 2: 'center'}\n",
    "print(table_instance.table)"
   ]
  },
  {
   "cell_type": "markdown",
   "id": "contrary-salmon",
   "metadata": {},
   "source": [
    "# Test Module"
   ]
  },
  {
   "cell_type": "code",
   "execution_count": null,
   "id": "manual-story",
   "metadata": {},
   "outputs": [],
   "source": [
    "from time_and_sales_visualizer import TimeAndSales\n",
    "import time"
   ]
  },
  {
   "cell_type": "code",
   "execution_count": null,
   "id": "prescribed-mauritius",
   "metadata": {},
   "outputs": [],
   "source": [
    "time_sale_obj = TimeAndSales(True)"
   ]
  },
  {
   "cell_type": "code",
   "execution_count": null,
   "id": "given-finland",
   "metadata": {},
   "outputs": [],
   "source": [
    "for line in lines:\n",
    "    time.sleep(0.1)\n",
    "    # Select individual price and size by the feed\n",
    "    line_split = line.split(',')\n",
    "    var_time = line_split[0].split(' ')[-1]\n",
    "    var_value = float(line_split[1])\n",
    "    var_size = int(line_split[2])\n",
    "    var_exchange = line_split[3]\n",
    "    time_sale_obj.data_generator(var_time, var_value, var_size, var_exchange)"
   ]
  }
 ],
 "metadata": {
  "kernelspec": {
   "display_name": "Python 3",
   "language": "python",
   "name": "python3"
  },
  "language_info": {
   "codemirror_mode": {
    "name": "ipython",
    "version": 3
   },
   "file_extension": ".py",
   "mimetype": "text/x-python",
   "name": "python",
   "nbconvert_exporter": "python",
   "pygments_lexer": "ipython3",
   "version": "3.7.9"
  },
  "toc": {
   "base_numbering": 1,
   "nav_menu": {},
   "number_sections": true,
   "sideBar": true,
   "skip_h1_title": false,
   "title_cell": "Table of Contents",
   "title_sidebar": "Contents",
   "toc_cell": false,
   "toc_position": {},
   "toc_section_display": true,
   "toc_window_display": false
  }
 },
 "nbformat": 4,
 "nbformat_minor": 5
}
