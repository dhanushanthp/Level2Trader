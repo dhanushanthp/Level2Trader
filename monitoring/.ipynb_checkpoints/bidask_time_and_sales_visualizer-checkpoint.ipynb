{
 "cells": [
  {
   "cell_type": "code",
   "execution_count": 1,
   "id": "forced-psychology",
   "metadata": {},
   "outputs": [],
   "source": [
    "import itertools\n",
    "from terminaltables import AsciiTable\n",
    "from colorclass import Color, Windows\n",
    "from terminaltables import SingleTable"
   ]
  },
  {
   "cell_type": "code",
   "execution_count": 31,
   "id": "chronic-carpet",
   "metadata": {},
   "outputs": [],
   "source": [
    "# Using readlines()\n",
    "file1 = open('test_data/bidask.csv', 'r')\n",
    "lines = file1.readlines()"
   ]
  },
  {
   "cell_type": "code",
   "execution_count": 42,
   "id": "direct-medium",
   "metadata": {},
   "outputs": [],
   "source": [
    "lines = lines[1:50]"
   ]
  },
  {
   "cell_type": "markdown",
   "id": "trained-checkout",
   "metadata": {},
   "source": [
    "# Test Bench"
   ]
  },
  {
   "cell_type": "code",
   "execution_count": 43,
   "id": "loose-sequence",
   "metadata": {
    "scrolled": true
   },
   "outputs": [
    {
     "data": {
      "text/plain": [
       "['20210322 16:05:53,4.91,1200,4.95,200,False,False\\n',\n",
       " '20210322 16:05:53,4.91,700,4.97,100,False,False\\n',\n",
       " '20210322 16:05:54,4.92,100,4.97,100,False,False\\n',\n",
       " '20210322 16:05:55,4.93,100,4.97,100,False,False\\n',\n",
       " '20210322 16:05:55,4.92,100,4.96,100,False,False\\n',\n",
       " '20210322 16:05:55,4.92,100,4.97,100,False,False\\n',\n",
       " '20210322 16:05:55,4.92,100,4.96,200,False,False\\n',\n",
       " '20210322 16:05:55,4.91,700,4.91,600,False,False\\n',\n",
       " '20210322 16:05:57,4.9,1500,4.91,400,False,False\\n',\n",
       " '20210322 16:05:59,4.87,100,4.91,400,False,False\\n',\n",
       " '20210322 16:05:59,4.86,100,4.91,400,False,False\\n',\n",
       " '20210322 16:05:59,4.85,1100,4.91,300,False,False\\n',\n",
       " '20210322 16:05:59,4.85,1100,4.96,300,False,False\\n',\n",
       " '20210322 16:05:59,4.91,3400,4.96,300,False,False\\n',\n",
       " '20210322 16:05:59,4.85,1100,4.96,200,False,False\\n',\n",
       " '20210322 16:06:00,4.85,600,4.9,200,False,False\\n',\n",
       " '20210322 16:06:00,4.85,100,4.89,100,False,False\\n',\n",
       " '20210322 16:06:00,4.84,300,4.89,100,False,False\\n',\n",
       " '20210322 16:06:00,4.83,1000,4.89,100,False,False\\n',\n",
       " '20210322 16:06:00,4.83,1000,4.9,100,False,False\\n',\n",
       " '20210322 16:06:01,4.83,500,4.91,1700,False,False\\n',\n",
       " '20210322 16:06:01,4.81,200,4.83,1100,False,False\\n',\n",
       " '20210322 16:06:02,4.82,300,4.83,1100,False,False\\n',\n",
       " '20210322 16:06:08,4.81,200,4.83,300,False,False\\n',\n",
       " '20210322 16:06:08,4.81,200,4.82,100,False,False\\n',\n",
       " '20210322 16:06:08,4.81,200,4.83,300,False,False\\n',\n",
       " '20210322 16:06:09,4.81,100,4.9,100,False,False\\n',\n",
       " '20210322 16:06:09,4.81,100,4.91,1700,False,False\\n',\n",
       " '20210322 16:06:09,4.81,100,4.82,100,False,False\\n',\n",
       " '20210322 16:06:11,4.81,400,4.91,1700,False,False\\n',\n",
       " '20210322 16:06:11,4.82,500,4.91,1700,False,False\\n',\n",
       " '20210322 16:06:12,4.84,100,4.91,1700,False,False\\n',\n",
       " '20210322 16:06:12,4.82,1000,4.91,1600,False,False\\n',\n",
       " '20210322 16:06:12,4.85,200,4.91,1600,False,False\\n',\n",
       " '20210322 16:06:12,4.91,400,4.91,1600,False,False\\n',\n",
       " '20210322 16:06:13,4.85,100,4.91,1600,False,False\\n',\n",
       " '20210322 16:06:13,4.92,100,4.96,100,False,False\\n',\n",
       " '20210322 16:06:13,4.85,200,4.91,1600,False,False\\n',\n",
       " '20210322 16:06:16,4.86,100,4.91,1500,False,False\\n',\n",
       " '20210322 16:06:18,4.86,100,4.9,200,False,False\\n',\n",
       " '20210322 16:06:18,4.86,100,4.91,1500,False,False\\n',\n",
       " '20210322 16:06:18,4.9,200,4.91,1500,False,False\\n',\n",
       " '20210322 16:06:19,4.86,100,4.91,1500,False,False\\n',\n",
       " '20210322 16:06:19,4.86,100,4.9,100,False,False\\n',\n",
       " '20210322 16:06:19,4.85,3100,4.9,100,False,False\\n',\n",
       " '20210322 16:06:20,4.85,2100,4.86,3500,False,False\\n',\n",
       " '20210322 16:06:25,4.85,400,4.9,200,False,False\\n',\n",
       " '20210322 16:06:25,4.84,500,4.9,200,False,False\\n',\n",
       " '20210322 16:06:25,4.86,900,4.9,200,False,False\\n']"
      ]
     },
     "execution_count": 43,
     "metadata": {},
     "output_type": "execute_result"
    }
   ],
   "source": [
    "lines"
   ]
  },
  {
   "cell_type": "code",
   "execution_count": 44,
   "id": "russian-pregnancy",
   "metadata": {},
   "outputs": [],
   "source": [
    "bid_time_dict = dict()\n",
    "ask_time_dict = dict()\n",
    "for line in lines:\n",
    "    line_split = line.split(',')\n",
    "    var_time = line_split[0][:-1]\n",
    "    bid_price = float(line_split[1])\n",
    "    bid_size = int(line_split[2])\n",
    "    ask_price = float(line_split[3])\n",
    "    ask_size = int(line_split[4])\n",
    "    \n",
    "    # Generate bid dictionary\n",
    "    if var_time in bid_time_dict:\n",
    "        if bid_price in bid_time_dict[var_time]:\n",
    "            # Get the value dictionary and update the size\n",
    "            bid_time_dict[var_time][bid_price] = bid_time_dict[var_time][bid_price] + bid_size\n",
    "        else:\n",
    "            bid_time_dict[var_time][bid_price] = bid_size\n",
    "    else:\n",
    "        # Create value dictionary with size\n",
    "        value_dict = dict()\n",
    "        value_dict[bid_price] = bid_size\n",
    "        # Create time dictionary with value\n",
    "        bid_time_dict[var_time] = value_dict\n",
    "    \n",
    "    \n",
    "    # Generate ask dictionary\n",
    "    if var_time in ask_time_dict:\n",
    "        if ask_price in ask_time_dict[var_time]:\n",
    "            # Get the value dictionary and update the size\n",
    "            ask_time_dict[var_time][ask_price] = ask_time_dict[var_time][ask_price] + ask_size\n",
    "        else:\n",
    "            ask_time_dict[var_time][ask_price] = ask_size\n",
    "    else:\n",
    "        # Create value dictionary with size\n",
    "        value_dict = dict()\n",
    "        value_dict[ask_price] = ask_size\n",
    "        # Create time dictionary with value\n",
    "        ask_time_dict[var_time] = value_dict"
   ]
  },
  {
   "cell_type": "code",
   "execution_count": 45,
   "id": "incorporate-portuguese",
   "metadata": {},
   "outputs": [],
   "source": [
    "# bid_time_dict"
   ]
  },
  {
   "cell_type": "code",
   "execution_count": 46,
   "id": "leading-onion",
   "metadata": {},
   "outputs": [],
   "source": [
    "# ask_time_dict"
   ]
  },
  {
   "cell_type": "code",
   "execution_count": 47,
   "id": "valued-cornwall",
   "metadata": {},
   "outputs": [],
   "source": [
    "# Time\n",
    "lst_time = sorted(bid_time_dict.keys())\n",
    "# value\n",
    "bid_lst_price = sorted(list((set(itertools.chain.from_iterable([list(bid_time_dict[i].keys()) for i in lst_time])))))\n",
    "ask_lst_price = sorted(list((set(itertools.chain.from_iterable([list(ask_time_dict[i].keys()) for i in lst_time])))))\n",
    "lst_price = sorted(list(set(bid_lst_price + ask_lst_price)))"
   ]
  },
  {
   "cell_type": "code",
   "execution_count": 48,
   "id": "helpful-wells",
   "metadata": {},
   "outputs": [],
   "source": [
    "def add_space_ask(string:str, leng=6):\n",
    "    string_length = len(string)\n",
    "    change = leng - string_length\n",
    "    if change > 0:\n",
    "        return string.ljust(leng)\n",
    "    else:\n",
    "        return string"
   ]
  },
  {
   "cell_type": "code",
   "execution_count": 49,
   "id": "trained-alloy",
   "metadata": {},
   "outputs": [],
   "source": [
    "def add_space_bid(string:str, leng=6):\n",
    "    string_length = len(string)\n",
    "    change = leng - string_length\n",
    "    if change > 0:\n",
    "        return string.rjust(leng)\n",
    "    else:\n",
    "        return string"
   ]
  },
  {
   "cell_type": "code",
   "execution_count": 50,
   "id": "impressed-minority",
   "metadata": {},
   "outputs": [],
   "source": [
    "def color_size(bid:int, ask:int):\n",
    "    str_bid = ''\n",
    "    str_ask = ''\n",
    "    \n",
    "    if bid > 8000:\n",
    "        str_bid = Color('{autored}' + add_space_bid(str(bid)) + '{/autored}')\n",
    "    elif bid > 5000:\n",
    "        str_bid = Color('{autocyan}' + add_space_bid(str(bid)) + '{/autocyan}')\n",
    "    elif bid > 3000:\n",
    "        str_bid = Color('{autoyellow}' + add_space_bid(str(bid)) + '{/autoyellow}')\n",
    "    else:\n",
    "        str_bid = Color(add_space_bid(str(bid)))\n",
    "        \n",
    "    if ask > 8000:\n",
    "        str_ask = Color('{autored}' + add_space_ask(str(ask)) + '{/autored}')\n",
    "    elif ask > 5000:\n",
    "        str_ask = Color('{autocyan}' + add_space_ask(str(ask)) + '{/autocyan}')\n",
    "    elif ask > 3000:\n",
    "        str_ask = Color('{autoyellow}' + add_space_ask(str(ask)) + '{/autoyellow}')\n",
    "    else:\n",
    "        str_ask = Color(add_space_ask(str(ask)))\n",
    "    \n",
    "    return str_bid + ' ➜ ' + str_ask"
   ]
  },
  {
   "cell_type": "code",
   "execution_count": 51,
   "id": "physical-bennett",
   "metadata": {},
   "outputs": [
    {
     "name": "stdout",
     "output_type": "stream",
     "text": [
      "+------+------------------+------------------+------------------+------------------+\n",
      "|      | 20210322 16:05:5 | 20210322 16:06:0 | 20210322 16:06:1 | 20210322 16:06:2 |\n",
      "+------+------------------+------------------+------------------+------------------+\n",
      "| 4.81 |                  |   1100 ➜ 0       |    400 ➜ 0       |                  |\n",
      "+------+------------------+------------------+------------------+------------------+\n",
      "| 4.82 |                  |    300 ➜ 200     |   1500 ➜ 0       |                  |\n",
      "+------+------------------+------------------+------------------+------------------+\n",
      "| 4.83 |                  |   2500 ➜ 2800    |                  |                  |\n",
      "+------+------------------+------------------+------------------+------------------+\n",
      "| 4.84 |                  |    300 ➜ 0       |    100 ➜ 0       |    500 ➜ 0       |\n",
      "+------+------------------+------------------+------------------+------------------+\n",
      "| 4.85 | \u001b[93m  3300\u001b[39m ➜ 0       |    700 ➜ 0       | \u001b[93m  3600\u001b[39m ➜ 0       |   2500 ➜ 0       |\n",
      "+------+------------------+------------------+------------------+------------------+\n",
      "| 4.86 |    100 ➜ 0       |                  |    500 ➜ 0       |    900 ➜ \u001b[93m3500  \u001b[39m  |\n",
      "+------+------------------+------------------+------------------+------------------+\n",
      "| 4.87 |    100 ➜ 0       |                  |                  |                  |\n",
      "+------+------------------+------------------+------------------+------------------+\n",
      "| 4.89 |                  |      0 ➜ 300     |                  |                  |\n",
      "+------+------------------+------------------+------------------+------------------+\n",
      "| 4.9  |   1500 ➜ 0       |      0 ➜ 400     |    200 ➜ 400     |      0 ➜ 600     |\n",
      "+------+------------------+------------------+------------------+------------------+\n",
      "| 4.91 | \u001b[96m  6000\u001b[39m ➜ 2100    |      0 ➜ \u001b[93m3400  \u001b[39m  |    400 ➜ \u001b[91m19100 \u001b[39m  |                  |\n",
      "+------+------------------+------------------+------------------+------------------+\n",
      "| 4.92 |    400 ➜ 0       |                  |    100 ➜ 0       |                  |\n",
      "+------+------------------+------------------+------------------+------------------+\n",
      "| 4.93 |    100 ➜ 0       |                  |                  |                  |\n",
      "+------+------------------+------------------+------------------+------------------+\n",
      "| 4.95 |      0 ➜ 200     |                  |                  |                  |\n",
      "+------+------------------+------------------+------------------+------------------+\n",
      "| 4.96 |      0 ➜ 1100    |                  |      0 ➜ 100     |                  |\n",
      "+------+------------------+------------------+------------------+------------------+\n",
      "| 4.97 |      0 ➜ 400     |                  |                  |                  |\n",
      "+------+------------------+------------------+------------------+------------------+\n"
     ]
    }
   ],
   "source": [
    "table_data = []\n",
    "for ele_time in lst_time:\n",
    "    value_data = []\n",
    "    for ele_price in lst_price:\n",
    "        # Price from both bid and ask\n",
    "        if ele_price in bid_time_dict[ele_time] and ele_price in ask_time_dict[ele_time]:\n",
    "            value_data.append(color_size(bid_time_dict[ele_time][ele_price], ask_time_dict[ele_time][ele_price]))\n",
    "        # Pricce exist in BID but Not in ASK\n",
    "        elif ele_price in bid_time_dict[ele_time] and ele_price not in ask_time_dict[ele_time]:\n",
    "            # Add the volumne size\n",
    "            value_data.append(color_size(bid_time_dict[ele_time][ele_price], 0))\n",
    "        # Pricce exist in ASK but Not in BID\n",
    "        elif ele_price not in bid_time_dict[ele_time] and ele_price in ask_time_dict[ele_time]:\n",
    "            # Add the volumne size\n",
    "            value_data.append(color_size(0, ask_time_dict[ele_time][ele_price]))\n",
    "        else:\n",
    "            value_data.append('')\n",
    "    table_data.append(value_data)\n",
    "\n",
    "table_data.insert(0, lst_price)\n",
    "table_data = list(map(list, zip(*table_data)))\n",
    "table_data.insert(0, [''] + lst_time)\n",
    "\n",
    "bid_table = AsciiTable(table_data)\n",
    "bid_table.inner_heading_row_border = False\n",
    "bid_table.inner_row_border = True\n",
    "bid_table.justify_columns = {0: 'center', 1: 'center', 2: 'center'}\n",
    "print(bid_table.table)"
   ]
  },
  {
   "cell_type": "markdown",
   "id": "contrary-salmon",
   "metadata": {},
   "source": [
    "# Test Module"
   ]
  },
  {
   "cell_type": "code",
   "execution_count": null,
   "id": "manual-story",
   "metadata": {},
   "outputs": [],
   "source": [
    "from time_and_sales_visualizer import TimeAndSales\n",
    "import time"
   ]
  },
  {
   "cell_type": "code",
   "execution_count": null,
   "id": "prescribed-mauritius",
   "metadata": {},
   "outputs": [],
   "source": [
    "time_sale_obj = TimeAndSales(True)"
   ]
  },
  {
   "cell_type": "code",
   "execution_count": null,
   "id": "given-finland",
   "metadata": {},
   "outputs": [],
   "source": [
    "for line in lines:\n",
    "    time.sleep(0.1)\n",
    "    # Select individual price and size by the feed\n",
    "    line_split = line.split(',')\n",
    "    var_time = line_split[0].split(' ')[-1]\n",
    "    var_value = float(line_split[1])\n",
    "    var_size = int(line_split[2])\n",
    "    var_exchange = line_split[3]\n",
    "    time_sale_obj.data_generator(var_time, var_value, var_size, var_exchange)"
   ]
  }
 ],
 "metadata": {
  "kernelspec": {
   "display_name": "Python 3",
   "language": "python",
   "name": "python3"
  },
  "language_info": {
   "codemirror_mode": {
    "name": "ipython",
    "version": 3
   },
   "file_extension": ".py",
   "mimetype": "text/x-python",
   "name": "python",
   "nbconvert_exporter": "python",
   "pygments_lexer": "ipython3",
   "version": "3.7.9"
  },
  "toc": {
   "base_numbering": 1,
   "nav_menu": {},
   "number_sections": true,
   "sideBar": true,
   "skip_h1_title": false,
   "title_cell": "Table of Contents",
   "title_sidebar": "Contents",
   "toc_cell": false,
   "toc_position": {},
   "toc_section_display": true,
   "toc_window_display": false
  }
 },
 "nbformat": 4,
 "nbformat_minor": 5
}
