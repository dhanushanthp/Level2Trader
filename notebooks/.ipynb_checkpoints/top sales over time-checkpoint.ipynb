{
 "cells": [
  {
   "cell_type": "code",
   "execution_count": 14,
   "id": "marked-pension",
   "metadata": {
    "scrolled": true
   },
   "outputs": [
    {
     "data": {
      "text/html": [
       "<style>.container { width:100% !important; }</style>"
      ],
      "text/plain": [
       "<IPython.core.display.HTML object>"
      ]
     },
     "metadata": {},
     "output_type": "display_data"
    }
   ],
   "source": [
    "from IPython.core.display import display, HTML\n",
    "display(HTML(\"<style>.container { width:100% !important; }</style>\"))"
   ]
  },
  {
   "cell_type": "code",
   "execution_count": 15,
   "id": "about-weather",
   "metadata": {},
   "outputs": [],
   "source": [
    "from terminaltables import AsciiTable"
   ]
  },
  {
   "cell_type": "code",
   "execution_count": 16,
   "id": "noted-ribbon",
   "metadata": {},
   "outputs": [],
   "source": [
    "import itertools"
   ]
  },
  {
   "cell_type": "code",
   "execution_count": 17,
   "id": "viral-scheduling",
   "metadata": {},
   "outputs": [],
   "source": [
    "import json\n",
    "\n",
    "with open('../data/tape_data/top_sales_on_bids_ask.json') as f:\n",
    "    data = json.load(f)"
   ]
  },
  {
   "cell_type": "code",
   "execution_count": 18,
   "id": "moderate-building",
   "metadata": {
    "scrolled": true
   },
   "outputs": [
    {
     "data": {
      "text/plain": [
       "{'20:57': [{'5.18': 300,\n",
       "   '5.17': 700,\n",
       "   '5.16': 1000,\n",
       "   '5.15': 0,\n",
       "   '5.14': 900,\n",
       "   '5.13': 0},\n",
       "  {'5.17': 0, '5.16': 0, '5.15': 500, '5.14': 100, '5.13': 600, '5.12': 500}],\n",
       " '20:56': [{'5.14': 1200,\n",
       "   '5.15': 700,\n",
       "   '5.16': 1000,\n",
       "   '5.18': 500,\n",
       "   '5.19': 1000,\n",
       "   '5.17': 0,\n",
       "   '5.2': 1400},\n",
       "  {'5.13': 300,\n",
       "   '5.14': 3700,\n",
       "   '5.15': 100,\n",
       "   '5.16': 900,\n",
       "   '5.17': 500,\n",
       "   '5.18': 1100,\n",
       "   '5.19': 100}],\n",
       " '20:55': [{'5.18': 0,\n",
       "   '5.17': 1000,\n",
       "   '5.16': 1500,\n",
       "   '5.15': 1000,\n",
       "   '5.14': 2900,\n",
       "   '5.13': 1900,\n",
       "   '5.12': 2000},\n",
       "  {'5.18': 700,\n",
       "   '5.17': 0,\n",
       "   '5.16': 100,\n",
       "   '5.15': 1500,\n",
       "   '5.12': 2400,\n",
       "   '5.13': 1000,\n",
       "   '5.11': 400,\n",
       "   '5.14': 700}],\n",
       " '20:54': [{'5.2': 900, '5.21': 1000, '5.19': 300},\n",
       "  {'5.2': 2000, '5.19': 1000, '5.18': 500}],\n",
       " '20:53': [{'5.2': 1000, '5.19': 0, '5.21': 600, '5.23': 100, '5.22': 300},\n",
       "  {'5.19': 800, '5.2': 500, '5.21': 1000}],\n",
       " '20:52': [{'5.26': 1000,\n",
       "   '5.27': 1400,\n",
       "   '5.28': 200,\n",
       "   '5.22': 200,\n",
       "   '5.21': 0,\n",
       "   '5.2': 500,\n",
       "   '5.19': 1200},\n",
       "  {'5.25': 800,\n",
       "   '5.26': 1000,\n",
       "   '5.27': 200,\n",
       "   '5.24': 0,\n",
       "   '5.23': 0,\n",
       "   '5.22': 700,\n",
       "   '5.21': 100,\n",
       "   '5.2': 1000,\n",
       "   '5.18': 1700,\n",
       "   '5.19': 1200}],\n",
       " '20:51': [{'5.29': 1000,\n",
       "   '5.28': 1200,\n",
       "   '5.27': 300,\n",
       "   '5.3': 400,\n",
       "   '5.31': 200,\n",
       "   '5.26': 600},\n",
       "  {'5.28': 800,\n",
       "   '5.27': 1000,\n",
       "   '5.26': 1000,\n",
       "   '5.29': 400,\n",
       "   '5.3': 2000,\n",
       "   '5.25': 300}],\n",
       " '20:50': [{'5.2': 600,\n",
       "   '5.19': 500,\n",
       "   '5.22': 500,\n",
       "   '5.24': 200,\n",
       "   '5.25': 1000,\n",
       "   '5.23': 600,\n",
       "   '5.26': 600,\n",
       "   '5.27': 1100,\n",
       "   '5.32': 300,\n",
       "   '5.29': 2100,\n",
       "   '5.28': 300},\n",
       "  {'5.19': 1200,\n",
       "   '5.2': 500,\n",
       "   '5.21': 100,\n",
       "   '5.22': 100,\n",
       "   '5.23': 2000,\n",
       "   '5.24': 200,\n",
       "   '5.25': 900,\n",
       "   '5.26': 1800,\n",
       "   '5.27': 2000,\n",
       "   '5.28': 200,\n",
       "   '5.29': 0,\n",
       "   '5.3': 500,\n",
       "   '5.31': 200}],\n",
       " '20:49': [{'5.18': 300, '5.17': 3000, '5.16': 1200, '5.19': 1000, '5.2': 500},\n",
       "  {'5.17': 500, '5.16': 5000, '5.15': 600, '5.18': 1000, '5.19': 600}],\n",
       " '20:48': [{'5.23': 700,\n",
       "   '5.24': 1500,\n",
       "   '5.25': 500,\n",
       "   '5.26': 500,\n",
       "   '5.27': 1000,\n",
       "   '5.22': 300,\n",
       "   '5.21': 500,\n",
       "   '5.2': 500,\n",
       "   '5.19': 0,\n",
       "   '5.18': 0},\n",
       "  {'5.23': 1100,\n",
       "   '5.24': 1000,\n",
       "   '5.25': 1000,\n",
       "   '5.26': 900,\n",
       "   '5.22': 1000,\n",
       "   '5.21': 400,\n",
       "   '5.2': 700,\n",
       "   '5.19': 0,\n",
       "   '5.18': 500,\n",
       "   '5.17': 0}]}"
      ]
     },
     "execution_count": 18,
     "metadata": {},
     "output_type": "execute_result"
    }
   ],
   "source": [
    "data"
   ]
  },
  {
   "cell_type": "code",
   "execution_count": 19,
   "id": "civic-pavilion",
   "metadata": {},
   "outputs": [],
   "source": [
    "all_sizes = list(itertools.chain.from_iterable([list(i.values()) for i in itertools.chain.from_iterable(data.values())]))"
   ]
  },
  {
   "cell_type": "code",
   "execution_count": 20,
   "id": "married-individual",
   "metadata": {},
   "outputs": [],
   "source": [
    "import numpy as np"
   ]
  },
  {
   "cell_type": "code",
   "execution_count": 21,
   "id": "documentary-indonesian",
   "metadata": {},
   "outputs": [
    {
     "data": {
      "text/plain": [
       "600.0"
      ]
     },
     "execution_count": 21,
     "metadata": {},
     "output_type": "execute_result"
    }
   ],
   "source": [
    "np.median(all_sizes)"
   ]
  },
  {
   "cell_type": "code",
   "execution_count": 22,
   "id": "whole-thumbnail",
   "metadata": {},
   "outputs": [],
   "source": [
    "table_data = []"
   ]
  },
  {
   "cell_type": "code",
   "execution_count": 23,
   "id": "proprietary-threshold",
   "metadata": {},
   "outputs": [],
   "source": [
    "time = sorted(data.keys())"
   ]
  },
  {
   "cell_type": "code",
   "execution_count": null,
   "id": "purple-shepherd",
   "metadata": {},
   "outputs": [],
   "source": [
    "import operator"
   ]
  },
  {
   "cell_type": "code",
   "execution_count": 41,
   "id": "recent-canada",
   "metadata": {},
   "outputs": [],
   "source": [
    "# Pick the latest timestap and the bid and ask dictionary\n",
    "last_time_stamp= time[-1]\n",
    "top_ask_on_latest = max(data[last_time_stamp][0].items(), key=operator.itemgetter(1))[0]\n",
    "top_bid_on_latest = max(data[last_time_stamp][1].items(), key=operator.itemgetter(1))[0]"
   ]
  },
  {
   "cell_type": "code",
   "execution_count": 45,
   "id": "regional-bangkok",
   "metadata": {},
   "outputs": [],
   "source": [
    "from colr import color\n",
    "x = color('8', fore=(255, 255, 255), back=(0, 255, 0))"
   ]
  },
  {
   "cell_type": "code",
   "execution_count": 11,
   "id": "animated-landscape",
   "metadata": {},
   "outputs": [],
   "source": [
    "ll = [data[i] for i in time]"
   ]
  },
  {
   "cell_type": "code",
   "execution_count": 11,
   "id": "innovative-cooler",
   "metadata": {},
   "outputs": [],
   "source": [
    "asks = [i[0] for i in ll]\n",
    "bids = [i[1] for i in ll]"
   ]
  },
  {
   "cell_type": "code",
   "execution_count": 12,
   "id": "searching-guinea",
   "metadata": {},
   "outputs": [],
   "source": [
    "bid_prices = sorted(set(itertools.chain.from_iterable(([list(i.keys()) for i in bids]))))\n",
    "ask_prices = sorted(set(itertools.chain.from_iterable(([list(i.keys()) for i in asks]))))\n",
    "all_prices = sorted(set(bid_prices + ask_prices), reverse=True)"
   ]
  },
  {
   "cell_type": "code",
   "execution_count": 89,
   "id": "subject-mason",
   "metadata": {},
   "outputs": [],
   "source": [
    "def calculate_ranks(dict_prices, all_prices):\n",
    "    # Tuple of price and list genreated from list of price and size dictionary\n",
    "    tuple_lst_price_size = list(itertools.chain.from_iterable([list(zip(list(i.keys()), list(i.values()))) for i in dict_prices]))\n",
    "    # Sort by size\n",
    "    tuple_lst_price_size= sorted(tuple_lst_price_size, key=lambda tup: tup[1], reverse=True)[:3]\n",
    "    \n",
    "    price_dict = {}\n",
    "    for idx, i in enumerate(tuple_lst_price_size):\n",
    "        price = i[0]\n",
    "        if price in price_dict:\n",
    "            price_dict[price].append(idx + 1)\n",
    "        else:\n",
    "            price_dict[price] = [idx+ 1]\n",
    "            \n",
    "    price_ranks = [price_dict[i] if i in price_dict else '' for i in all_prices]\n",
    "    \n",
    "    return price_ranks"
   ]
  },
  {
   "cell_type": "code",
   "execution_count": 91,
   "id": "wireless-klein",
   "metadata": {},
   "outputs": [
    {
     "data": {
      "text/plain": [
       "['',\n",
       " '',\n",
       " '',\n",
       " '',\n",
       " '',\n",
       " '',\n",
       " '',\n",
       " '',\n",
       " '',\n",
       " '',\n",
       " [1, 3],\n",
       " '',\n",
       " '',\n",
       " '',\n",
       " '',\n",
       " '',\n",
       " '',\n",
       " '',\n",
       " '',\n",
       " '',\n",
       " '',\n",
       " '',\n",
       " '',\n",
       " [2],\n",
       " '',\n",
       " '',\n",
       " '',\n",
       " '',\n",
       " '',\n",
       " '',\n",
       " '',\n",
       " '',\n",
       " '',\n",
       " '',\n",
       " '',\n",
       " '',\n",
       " '',\n",
       " '',\n",
       " '',\n",
       " '']"
      ]
     },
     "execution_count": 91,
     "metadata": {},
     "output_type": "execute_result"
    }
   ],
   "source": [
    "calculate_ranks(asks, all_prices)"
   ]
  },
  {
   "cell_type": "code",
   "execution_count": 58,
   "id": "expressed-disclaimer",
   "metadata": {},
   "outputs": [],
   "source": [
    "bb = list(itertools.chain.from_iterable([list(zip(list(i.keys()), list(i.values()))) for i in bids]))"
   ]
  },
  {
   "cell_type": "code",
   "execution_count": 62,
   "id": "continuing-garlic",
   "metadata": {},
   "outputs": [],
   "source": [
    "bb = sorted(bb, key=lambda tup: tup[1], reverse=True)[:3]"
   ]
  },
  {
   "cell_type": "code",
   "execution_count": 74,
   "id": "coupled-duncan",
   "metadata": {},
   "outputs": [
    {
     "data": {
      "text/plain": [
       "[('5.33', 7200), ('5.52', 3600), ('5.33', 3500)]"
      ]
     },
     "execution_count": 74,
     "metadata": {},
     "output_type": "execute_result"
    }
   ],
   "source": [
    "bb"
   ]
  },
  {
   "cell_type": "code",
   "execution_count": 85,
   "id": "metropolitan-stuart",
   "metadata": {},
   "outputs": [],
   "source": [
    "price_dict = {}\n",
    "for idx, i in enumerate(bb):\n",
    "    price = i[0]\n",
    "    if price in price_dict:\n",
    "        price_dict[price].append(idx + 1)\n",
    "    else:\n",
    "        price_dict[price] = [idx+ 1]"
   ]
  },
  {
   "cell_type": "code",
   "execution_count": 86,
   "id": "increasing-florence",
   "metadata": {},
   "outputs": [
    {
     "data": {
      "text/plain": [
       "{'5.33': [1, 3], '5.52': [2]}"
      ]
     },
     "execution_count": 86,
     "metadata": {},
     "output_type": "execute_result"
    }
   ],
   "source": [
    "price_dict"
   ]
  },
  {
   "cell_type": "code",
   "execution_count": 88,
   "id": "sexual-tactics",
   "metadata": {},
   "outputs": [],
   "source": [
    "price_ranks = [price_dict[i] if i in price_dict else '' for i in all_prices]"
   ]
  },
  {
   "cell_type": "code",
   "execution_count": 45,
   "id": "consecutive-utility",
   "metadata": {},
   "outputs": [
    {
     "data": {
      "text/plain": [
       "['5.52',\n",
       " '5.51',\n",
       " '5.5',\n",
       " '5.49',\n",
       " '5.48',\n",
       " '5.47',\n",
       " '5.46',\n",
       " '5.45',\n",
       " '5.46',\n",
       " '5.47',\n",
       " '5.48',\n",
       " '5.49',\n",
       " '5.5',\n",
       " '5.51',\n",
       " '5.52',\n",
       " '5.54',\n",
       " '5.55',\n",
       " '5.56',\n",
       " '5.57',\n",
       " '5.45',\n",
       " '5.44',\n",
       " '5.43',\n",
       " '5.42',\n",
       " '5.41',\n",
       " '5.42',\n",
       " '5.43',\n",
       " '5.44',\n",
       " '5.45',\n",
       " '5.46',\n",
       " '5.48',\n",
       " '5.49',\n",
       " '5.5',\n",
       " '5.51',\n",
       " '5.52',\n",
       " '5.41',\n",
       " '5.4',\n",
       " '5.39',\n",
       " '5.38',\n",
       " '5.37',\n",
       " '5.36',\n",
       " '5.35',\n",
       " '5.31',\n",
       " '5.32',\n",
       " '5.33',\n",
       " '5.34',\n",
       " '5.35',\n",
       " '5.33',\n",
       " '5.34',\n",
       " '5.32',\n",
       " '5.31',\n",
       " '5.3',\n",
       " '5.29',\n",
       " '5.28',\n",
       " '5.27',\n",
       " '5.26',\n",
       " '5.29',\n",
       " '5.3',\n",
       " '5.28',\n",
       " '5.27',\n",
       " '5.31',\n",
       " '5.32',\n",
       " '5.33',\n",
       " '5.34',\n",
       " '5.35',\n",
       " '5.36',\n",
       " '5.34',\n",
       " '5.33',\n",
       " '5.32',\n",
       " '5.3',\n",
       " '5.31',\n",
       " '5.29',\n",
       " '5.28',\n",
       " '5.27',\n",
       " '5.26',\n",
       " '5.25',\n",
       " '5.23',\n",
       " '5.22',\n",
       " '5.21',\n",
       " '5.2',\n",
       " '5.19']"
      ]
     },
     "execution_count": 45,
     "metadata": {},
     "output_type": "execute_result"
    }
   ],
   "source": [
    "list(itertools.chain.from_iterable(bids))"
   ]
  },
  {
   "cell_type": "code",
   "execution_count": 27,
   "id": "alien-wisconsin",
   "metadata": {},
   "outputs": [],
   "source": [
    "top_size_on_bid = sorted(set(itertools.chain.from_iterable([list(i.values()) for i in bids])), reverse=True)[:3]\n",
    "top_size_on_bid_ranked = {i:rank + 1 for rank, i in enumerate(top_size_on_bid)}"
   ]
  },
  {
   "cell_type": "code",
   "execution_count": 223,
   "id": "turkish-sheet",
   "metadata": {},
   "outputs": [],
   "source": [
    "\n",
    "\n",
    "table_data = []\n",
    "for t in time:\n",
    "    # 0 index for bids\n",
    "    price_on_bids = data[t][0]\n",
    "    price_on_asks = data[t][1]\n",
    "    price_size_on_bids = [str(price_on_bids[p]) if p in price_on_bids else '-' for p in all_prices]\n",
    "    price_size_on_asks = [str(price_on_asks[p]) if p in price_on_asks else '-' for p in all_prices]\n",
    "    output = ['\\n'.join(x) for x in zip(price_size_on_asks, price_size_on_bids)]\n",
    "    table_data.append(output)\n",
    "\n",
    "# table_data.append(all_prices)\n",
    "table_data = list(map(list, zip(*table_data)))\n",
    "# table_data.insert(0, time)\n",
    "\n",
    "# Create table instance\n",
    "table_instance = AsciiTable(table_data)\n",
    "table_instance.inner_heading_row_border = False\n",
    "table_instance.inner_row_border = True\n",
    "table_instance.inner_column_border = False\n",
    "\n",
    "table_instance.justify_columns = {0:'center', 1:'center', 2:'center', 3:'center', 4:'center', 5:'center', 6:'center'}"
   ]
  },
  {
   "cell_type": "code",
   "execution_count": 224,
   "id": "phantom-garden",
   "metadata": {
    "scrolled": false
   },
   "outputs": [
    {
     "name": "stdout",
     "output_type": "stream",
     "text": [
      "+----------------------------------------------------------------------+\n",
      "|   -      -      -      -      -      -      -    -      -      -     |\n",
      "|   -      -      -      -      -      -      -    -      -      16500 |\n",
      "+----------------------------------------------------------------------+\n",
      "|   -      -      -      -      -      -      -    -      -      27700 |\n",
      "|   -      -      -      -      -      -      -    18900  17500  30600 |\n",
      "+----------------------------------------------------------------------+\n",
      "|   -      -      -      -      -      -      -    9000   16000  9000  |\n",
      "|   -      -      -      -      -      -    33800  25600  16300  1000  |\n",
      "+----------------------------------------------------------------------+\n",
      "|   -      -      -      -      -      -    40000  9000   50000  4000  |\n",
      "|   -      -      -     2000    -      -    38000  7700   -      -     |\n",
      "+----------------------------------------------------------------------+\n",
      "|   -      -      -    10000    -      -    23100  2000   -      -     |\n",
      "|   -      -      -    10000   2000   4800  10000  -      -      -     |\n",
      "+----------------------------------------------------------------------+\n",
      "|   -      -      -    46900   6400  11500  15000  -      -      -     |\n",
      "|   -      -      -    35700   8900  22000    -    -      -      -     |\n",
      "+----------------------------------------------------------------------+\n",
      "|   -      -      -    34900  20000  10300    -    -      -      -     |\n",
      "|   -      -      -    18900  50000    -      -    -      -      -     |\n",
      "+----------------------------------------------------------------------+\n",
      "|   -      -      -    18500   1000    -      -    -      -      -     |\n",
      "|   -      -    12100  11900    -      -      -    -      -      -     |\n",
      "+----------------------------------------------------------------------+\n",
      "|   -      -    23100   4000    -      -      -    -      -      -     |\n",
      "| 20000  10000  54500    -      -      -      -    -      -      -     |\n",
      "+----------------------------------------------------------------------+\n",
      "| 22500  14700  12000    -      -      -      -    -      -      -     |\n",
      "| 12900  20000  20000    -      -      -      -    -      -      -     |\n",
      "+----------------------------------------------------------------------+\n",
      "| 30500  35300   8600    -      -      -      -    -      -      -     |\n",
      "|   -     1700    -      -      -      -      -    -      -      -     |\n",
      "+----------------------------------------------------------------------+\n"
     ]
    }
   ],
   "source": [
    "print(table_instance.table)"
   ]
  },
  {
   "cell_type": "code",
   "execution_count": null,
   "id": "critical-heater",
   "metadata": {},
   "outputs": [],
   "source": []
  }
 ],
 "metadata": {
  "kernelspec": {
   "display_name": "Python 3",
   "language": "python",
   "name": "python3"
  },
  "language_info": {
   "codemirror_mode": {
    "name": "ipython",
    "version": 3
   },
   "file_extension": ".py",
   "mimetype": "text/x-python",
   "name": "python",
   "nbconvert_exporter": "python",
   "pygments_lexer": "ipython3",
   "version": "3.7.9"
  },
  "toc": {
   "base_numbering": 1,
   "nav_menu": {},
   "number_sections": true,
   "sideBar": true,
   "skip_h1_title": false,
   "title_cell": "Table of Contents",
   "title_sidebar": "Contents",
   "toc_cell": false,
   "toc_position": {},
   "toc_section_display": true,
   "toc_window_display": false
  }
 },
 "nbformat": 4,
 "nbformat_minor": 5
}
